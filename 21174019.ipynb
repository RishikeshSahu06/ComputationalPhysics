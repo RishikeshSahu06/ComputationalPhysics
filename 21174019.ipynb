{
  "nbformat": 4,
  "nbformat_minor": 0,
  "metadata": {
    "colab": {
      "provenance": [],
      "include_colab_link": true
    },
    "kernelspec": {
      "name": "python3",
      "display_name": "Python 3"
    },
    "language_info": {
      "name": "python"
    }
  },
  "cells": [
    {
      "cell_type": "markdown",
      "metadata": {
        "id": "view-in-github",
        "colab_type": "text"
      },
      "source": [
        "<a href=\"https://colab.research.google.com/github/RishikeshSahu06/ComputationalPhysics/blob/main/21174019.ipynb\" target=\"_parent\"><img src=\"https://colab.research.google.com/assets/colab-badge.svg\" alt=\"Open In Colab\"/></a>"
      ]
    },
    {
      "cell_type": "markdown",
      "source": [
        "Computational Physics Lab 1 [04/01/2023]\n",
        "\n",
        "This is a google colab, We will be using it for the computational physics laboratory. It has two types of blocks, code blocks for writing codes and text bolk like the present one. Here we can write comments/problems discussions etc.\n",
        "\n",
        "We have two tutors:\n",
        "\n",
        "Anu Sridevi. anubsreedevi.rs.phy20@itbhu.ac.in Sripan Mandal sripanmondal.rs.phy21@itbhu.ac.in"
      ],
      "metadata": {
        "id": "-syaheF932Ol"
      }
    },
    {
      "cell_type": "code",
      "source": [
        "# This is how you put a comment in one line \n",
        "'''\n",
        "Sometimes you need to comment out a part of the code \n",
        "or a several lines of elaborate comments. Then you do that way \n",
        "we are doing now. '''\n",
        "5 + 3"
      ],
      "metadata": {
        "colab": {
          "base_uri": "https://localhost:8080/"
        },
        "id": "pyIP7UOx4sHl",
        "outputId": "b6bc1394-9d55-45bf-b4bb-a2df48020a8d"
      },
      "execution_count": 5,
      "outputs": [
        {
          "output_type": "execute_result",
          "data": {
            "text/plain": [
              "8"
            ]
          },
          "metadata": {},
          "execution_count": 5
        }
      ]
    },
    {
      "cell_type": "code",
      "source": [
        "5 - 3\n"
      ],
      "metadata": {
        "colab": {
          "base_uri": "https://localhost:8080/"
        },
        "id": "wwh1yy4y59Q0",
        "outputId": "18d2d219-0bda-4ac1-bc86-442422779bf5"
      },
      "execution_count": 6,
      "outputs": [
        {
          "output_type": "execute_result",
          "data": {
            "text/plain": [
              "2"
            ]
          },
          "metadata": {},
          "execution_count": 6
        }
      ]
    },
    {
      "cell_type": "code",
      "source": [
        "5 / 3\n"
      ],
      "metadata": {
        "colab": {
          "base_uri": "https://localhost:8080/"
        },
        "id": "_je-oHxe6BPZ",
        "outputId": "2d8e51bb-940f-4855-baa5-3eba7a24697f"
      },
      "execution_count": 7,
      "outputs": [
        {
          "output_type": "execute_result",
          "data": {
            "text/plain": [
              "1.6666666666666667"
            ]
          },
          "metadata": {},
          "execution_count": 7
        }
      ]
    },
    {
      "cell_type": "code",
      "source": [
        "5 // 3"
      ],
      "metadata": {
        "colab": {
          "base_uri": "https://localhost:8080/"
        },
        "id": "eyB0bY9T6GI-",
        "outputId": "336e161f-4934-4083-d7bf-7d28469a1e57"
      },
      "execution_count": 8,
      "outputs": [
        {
          "output_type": "execute_result",
          "data": {
            "text/plain": [
              "1"
            ]
          },
          "metadata": {},
          "execution_count": 8
        }
      ]
    },
    {
      "cell_type": "code",
      "source": [
        "5 % 2"
      ],
      "metadata": {
        "colab": {
          "base_uri": "https://localhost:8080/"
        },
        "id": "5wzzYvFU6IoW",
        "outputId": "1505a622-d41c-4cb4-a793-e2a509d9b031"
      },
      "execution_count": 9,
      "outputs": [
        {
          "output_type": "execute_result",
          "data": {
            "text/plain": [
              "1"
            ]
          },
          "metadata": {},
          "execution_count": 9
        }
      ]
    },
    {
      "cell_type": "code",
      "source": [
        "5 * 2"
      ],
      "metadata": {
        "colab": {
          "base_uri": "https://localhost:8080/"
        },
        "id": "MdbKBgDN6Kbl",
        "outputId": "91a89e70-fbfd-458f-b8d6-e0df75163663"
      },
      "execution_count": 12,
      "outputs": [
        {
          "output_type": "execute_result",
          "data": {
            "text/plain": [
              "10"
            ]
          },
          "metadata": {},
          "execution_count": 12
        }
      ]
    },
    {
      "cell_type": "code",
      "source": [
        "5 ** 3"
      ],
      "metadata": {
        "colab": {
          "base_uri": "https://localhost:8080/"
        },
        "id": "XbU-j9IR6Nrd",
        "outputId": "4f96ca3c-81cf-4ae8-e07b-a0a54539dc1f"
      },
      "execution_count": 13,
      "outputs": [
        {
          "output_type": "execute_result",
          "data": {
            "text/plain": [
              "125"
            ]
          },
          "metadata": {},
          "execution_count": 13
        }
      ]
    },
    {
      "cell_type": "code",
      "source": [
        "pow(5,3)"
      ],
      "metadata": {
        "colab": {
          "base_uri": "https://localhost:8080/"
        },
        "id": "HWXSmQTG6TeV",
        "outputId": "05c19933-029f-4432-f6f2-cd81b1b950a4"
      },
      "execution_count": 14,
      "outputs": [
        {
          "output_type": "execute_result",
          "data": {
            "text/plain": [
              "125"
            ]
          },
          "metadata": {},
          "execution_count": 14
        }
      ]
    },
    {
      "cell_type": "code",
      "source": [
        "# Lets print all together\n",
        "# print integer %d\n",
        "# print fraction %f\n",
        "\n",
        "# print(\"Adding 5 with 3 gives me\", 5+3)\n",
        "print(\"Adding %d with %d gives me %d\" %(5,3,5+3))\n",
        "print(5-3)\n",
        "print(5*3)"
      ],
      "metadata": {
        "colab": {
          "base_uri": "https://localhost:8080/"
        },
        "id": "OW_Ue8Po6btE",
        "outputId": "dcb360ab-b7e4-47b9-8686-635a791d6f20"
      },
      "execution_count": 15,
      "outputs": [
        {
          "output_type": "stream",
          "name": "stdout",
          "text": [
            "Adding 5 with 3 gives me 8\n",
            "2\n",
            "15\n"
          ]
        }
      ]
    },
    {
      "cell_type": "code",
      "source": [
        "# Variables:   integers, fraction (floating point), strings\n",
        "xx = 1\n",
        "yy = 1.2\n",
        "name = \"Rishikesh\"\n",
        "\n",
        "print(xx + yy)   #coneverted to a string\n",
        "print(name)"
      ],
      "metadata": {
        "colab": {
          "base_uri": "https://localhost:8080/"
        },
        "id": "XfS8tcfY7pPI",
        "outputId": "b0d5568c-73fb-4e2d-e18c-a7e681942858"
      },
      "execution_count": 16,
      "outputs": [
        {
          "output_type": "stream",
          "name": "stdout",
          "text": [
            "2.2\n",
            "Rishikesh\n"
          ]
        }
      ]
    },
    {
      "cell_type": "code",
      "source": [
        "# Using numpy scipy module\n",
        "\n",
        "''' Dont use it this way\n",
        "from numpy import *    #it will import everything in numpy module '''\n",
        "\n",
        "import numpy as np\n",
        "print(np.sin(0.1), np.sin(np.pi/2.))\n",
        "print(np.cos(0.1), np.cos(np.pi/2.))    # will understand next week y its not giving actual zero\n",
        "print(np.tan(0.1), np.tan(np.pi/2.))\n",
        "print(np.arcsin(1.0), np.arctan(1.0), np.arccos(1.0))    # for inverse functions"
      ],
      "metadata": {
        "colab": {
          "base_uri": "https://localhost:8080/"
        },
        "id": "fBQXvUPW9US4",
        "outputId": "3362de26-52c3-4465-8504-104766f04158"
      },
      "execution_count": 17,
      "outputs": [
        {
          "output_type": "stream",
          "name": "stdout",
          "text": [
            "0.09983341664682815 1.0\n",
            "0.9950041652780258 6.123233995736766e-17\n",
            "0.10033467208545055 1.633123935319537e+16\n",
            "1.5707963267948966 0.7853981633974483 0.0\n"
          ]
        }
      ]
    },
    {
      "cell_type": "code",
      "source": [
        "# Our First program\n",
        "\n",
        "'''\n",
        "Take two numbers in input and calculate the following:\n",
        "sin(num 1) + cos (num2) and print the addition.\n",
        "\n",
        "Pseudo code:\n",
        "1. Input the first number\n",
        "2. Input the second number\n",
        "3. Do the operation\n",
        "4. Print the output\n",
        "'''\n",
        "import numpy as np\n",
        "\n",
        "print (\"This program does an operation with two input numbers\")\n",
        "print (\"Give a number: \")\n",
        "num1 = float(input())\n",
        "num2 = float(input(\"Input another number:\"))\n",
        "\n",
        "result = np.sin(num1) + np.cos(num2)\n",
        "print(\"Result of operation is\",result)"
      ],
      "metadata": {
        "colab": {
          "base_uri": "https://localhost:8080/"
        },
        "id": "zFC_1Pf6_6XI",
        "outputId": "3fe50a27-c94c-43c4-8b81-c5940342a158"
      },
      "execution_count": 18,
      "outputs": [
        {
          "output_type": "stream",
          "name": "stdout",
          "text": [
            "This program does an operation with two input numbers\n",
            "Give a number: \n",
            "56\n",
            "Input another number:56\n",
            "Result of operation is 0.3316691056356723\n"
          ]
        }
      ]
    },
    {
      "cell_type": "markdown",
      "source": [
        "Containers in Python\n",
        "\n",
        "Properties:\n",
        "\n",
        "ordered?\n",
        "homogenous? mutable?\n",
        "\n",
        "1. tuple: [ordered, heterogenous, non mutable]\n",
        "2. list: [ordered, heterogenous, mutable]\n",
        "3. array: [ordered, homogenous, mutable]\n",
        "\n",
        "To get an element of an ordered container, one start by saying that the first element is element no 0.\n"
      ],
      "metadata": {
        "id": "yTRiz9lNEi7b"
      }
    },
    {
      "cell_type": "code",
      "source": [
        "# tuple\n",
        "\n",
        "aa = (21174019, 'Rishikesh Sahu', (50.,20.,10.))  #tuple inside a tuple\n",
        "print(aa[1],aa[0],aa[2])\n",
        "print(aa[2][0])\n",
        "# aa[2][0] = 1.       #it will give an error       as tuple is non mutable"
      ],
      "metadata": {
        "colab": {
          "base_uri": "https://localhost:8080/"
        },
        "id": "PJxxqPYiFSMx",
        "outputId": "26a4bd5c-d3ee-4377-d066-9f2382485d4c"
      },
      "execution_count": 19,
      "outputs": [
        {
          "output_type": "stream",
          "name": "stdout",
          "text": [
            "Rishikesh Sahu 21174019 (50.0, 20.0, 10.0)\n",
            "50.0\n"
          ]
        }
      ]
    },
    {
      "cell_type": "code",
      "source": [
        "# list\n",
        "\n",
        "aa = [21174019, 'Rishikesh Sahu', [50.,20.,10.]]\n",
        "aa[2][0] = 20.    #list is mutable\n",
        "print(aa[2])"
      ],
      "metadata": {
        "colab": {
          "base_uri": "https://localhost:8080/"
        },
        "id": "O9ZOPBsEGRw1",
        "outputId": "f32472aa-db1d-4a91-d354-faef24785fc5"
      },
      "execution_count": 20,
      "outputs": [
        {
          "output_type": "stream",
          "name": "stdout",
          "text": [
            "[20.0, 20.0, 10.0]\n"
          ]
        }
      ]
    },
    {
      "cell_type": "code",
      "source": [
        "# array\n",
        "\n",
        "aa = np.array([1., 2.3, 4.5, 6.2, 7.])\n",
        "bb = np.array([1., 2., 4.2, 6.2, 7.])\n",
        "# print(aa + bb)\n",
        "print(aa * bb)\n",
        "print(np.dot(aa,bb))  #dot product of the vectors\n",
        "# bb = aa.tolist() #converted to list\n",
        "# bb.append(9.)"
      ],
      "metadata": {
        "id": "uMxHJJQfHU1H",
        "colab": {
          "base_uri": "https://localhost:8080/"
        },
        "outputId": "c408a687-703a-4090-8287-a92d485461dc"
      },
      "execution_count": 21,
      "outputs": [
        {
          "output_type": "stream",
          "name": "stdout",
          "text": [
            "[ 1.    4.6  18.9  38.44 49.  ]\n",
            "111.94\n"
          ]
        }
      ]
    },
    {
      "cell_type": "code",
      "source": [
        "index = np.where(aa<3,)\n",
        "aa[index]\n",
        "print(aa[index],bb[index])\n",
        "aa[np.where(aa<3)]\n",
        "aa[aa<3]"
      ],
      "metadata": {
        "colab": {
          "base_uri": "https://localhost:8080/"
        },
        "id": "rMYQKBM0J-77",
        "outputId": "54478fe2-18f6-46b5-fcb8-10dffaede4c3"
      },
      "execution_count": 22,
      "outputs": [
        {
          "output_type": "stream",
          "name": "stdout",
          "text": [
            "[1.  2.3] [1. 2.]\n"
          ]
        },
        {
          "output_type": "execute_result",
          "data": {
            "text/plain": [
              "array([1. , 2.3])"
            ]
          },
          "metadata": {},
          "execution_count": 22
        }
      ]
    },
    {
      "cell_type": "code",
      "source": [
        "aa = np.array([[1,2,3],[5,6,7]])\n",
        "print(aa)\n",
        "aa[1,2]"
      ],
      "metadata": {
        "colab": {
          "base_uri": "https://localhost:8080/"
        },
        "id": "rKnS5ER-Ldte",
        "outputId": "c09d5493-0fc6-41f0-c6e3-97cc965e5cc0"
      },
      "execution_count": 23,
      "outputs": [
        {
          "output_type": "stream",
          "name": "stdout",
          "text": [
            "[[1 2 3]\n",
            " [5 6 7]]\n"
          ]
        },
        {
          "output_type": "execute_result",
          "data": {
            "text/plain": [
              "7"
            ]
          },
          "metadata": {},
          "execution_count": 23
        }
      ]
    },
    {
      "cell_type": "code",
      "source": [
        "aa[1][2]"
      ],
      "metadata": {
        "colab": {
          "base_uri": "https://localhost:8080/"
        },
        "id": "kFmGXIa-L8N_",
        "outputId": "0c4ddeef-fe39-4606-934f-5747162286a8"
      },
      "execution_count": 24,
      "outputs": [
        {
          "output_type": "execute_result",
          "data": {
            "text/plain": [
              "7"
            ]
          },
          "metadata": {},
          "execution_count": 24
        }
      ]
    },
    {
      "cell_type": "code",
      "source": [
        "aa.shape"
      ],
      "metadata": {
        "colab": {
          "base_uri": "https://localhost:8080/"
        },
        "id": "lz1nrvoxMALH",
        "outputId": "1a4b49a9-c877-4940-afec-645b50d5e47a"
      },
      "execution_count": 26,
      "outputs": [
        {
          "output_type": "execute_result",
          "data": {
            "text/plain": [
              "(2, 3)"
            ]
          },
          "metadata": {},
          "execution_count": 26
        }
      ]
    },
    {
      "cell_type": "code",
      "source": [
        "# 1. Given input of n, find factorial n.\n",
        "\n",
        "def factorial(n):\n",
        "    if n == 1:\n",
        "      return 1\n",
        "    return n * factorial(n-1)\n",
        "\n",
        "\n",
        "\n",
        "print(factorial(4))  # 24\n",
        "print(factorial(5))  # 120"
      ],
      "metadata": {
        "colab": {
          "base_uri": "https://localhost:8080/"
        },
        "id": "kEdf5mlDf_dE",
        "outputId": "541ba94c-5835-4c18-f784-4517ec1c2fcd"
      },
      "execution_count": 27,
      "outputs": [
        {
          "output_type": "stream",
          "name": "stdout",
          "text": [
            "24\n",
            "120\n"
          ]
        }
      ]
    },
    {
      "cell_type": "code",
      "source": [
        "# 2. Given inputs of n and p find n_C_p.\n",
        "# n_C_p = n! / (p! * (n-p)!)\n",
        "\n",
        "def combination(n, p):\n",
        "    return factorial(n) / (factorial(p) * factorial(n-p))\n",
        "\n",
        "print(combination(5, 2))  # 10\n",
        "print(combination(6, 3))  # 20"
      ],
      "metadata": {
        "colab": {
          "base_uri": "https://localhost:8080/"
        },
        "id": "4UBMFTKvgqnm",
        "outputId": "fdad8384-a695-4bc0-e4a3-6b367cb6a92c"
      },
      "execution_count": 28,
      "outputs": [
        {
          "output_type": "stream",
          "name": "stdout",
          "text": [
            "10.0\n",
            "20.0\n"
          ]
        }
      ]
    },
    {
      "cell_type": "code",
      "source": [
        "# 3. Find all the numbers that are divisible by a number that you give in input.\n",
        "hjebi ixdv \n"
      ],
      "metadata": {
        "id": "__QmNT9whdoG"
      },
      "execution_count": null,
      "outputs": []
    }
  ]
}