{
  "nbformat": 4,
  "nbformat_minor": 0,
  "metadata": {
    "colab": {
      "provenance": [],
      "include_colab_link": true
    },
    "kernelspec": {
      "name": "python3",
      "display_name": "Python 3"
    },
    "language_info": {
      "name": "python"
    }
  },
  "cells": [
    {
      "cell_type": "markdown",
      "metadata": {
        "id": "view-in-github",
        "colab_type": "text"
      },
      "source": [
        "<a href=\"https://colab.research.google.com/github/RishikeshSahu06/ComputationalPhysics/blob/main/21174019.ipynb\" target=\"_parent\"><img src=\"https://colab.research.google.com/assets/colab-badge.svg\" alt=\"Open In Colab\"/></a>"
      ]
    },
    {
      "cell_type": "markdown",
      "source": [
        "Computational Physics Lab 1 [04/01/2023]\n",
        "\n",
        "This is a google colab, We will be using it for the computational physics laboratory. It has two types of blocks, code blocks for writing codes and text bolk like the present one. Here we can write comments/problems discussions etc.\n",
        "\n",
        "We have two tutors:\n",
        "\n",
        "Anu Sridevi. anubsreedevi.rs.phy20@itbhu.ac.in Sripan Mandal sripanmondal.rs.phy21@itbhu.ac.in"
      ],
      "metadata": {
        "id": "-syaheF932Ol"
      }
    },
    {
      "cell_type": "code",
      "source": [
        "# This is how you put a comment in one line \n",
        "'''\n",
        "Sometimes you need to comment out a part of the code \n",
        "or a several lines of elaborate comments. Then you do that way \n",
        "we are doing now. '''\n",
        "5 + 3"
      ],
      "metadata": {
        "colab": {
          "base_uri": "https://localhost:8080/"
        },
        "id": "pyIP7UOx4sHl",
        "outputId": "b6bc1394-9d55-45bf-b4bb-a2df48020a8d"
      },
      "execution_count": 5,
      "outputs": [
        {
          "output_type": "execute_result",
          "data": {
            "text/plain": [
              "8"
            ]
          },
          "metadata": {},
          "execution_count": 5
        }
      ]
    },
    {
      "cell_type": "code",
      "source": [
        "5 - 3\n"
      ],
      "metadata": {
        "colab": {
          "base_uri": "https://localhost:8080/"
        },
        "id": "wwh1yy4y59Q0",
        "outputId": "18d2d219-0bda-4ac1-bc86-442422779bf5"
      },
      "execution_count": 6,
      "outputs": [
        {
          "output_type": "execute_result",
          "data": {
            "text/plain": [
              "2"
            ]
          },
          "metadata": {},
          "execution_count": 6
        }
      ]
    },
    {
      "cell_type": "code",
      "source": [
        "5 / 3\n"
      ],
      "metadata": {
        "colab": {
          "base_uri": "https://localhost:8080/"
        },
        "id": "_je-oHxe6BPZ",
        "outputId": "2d8e51bb-940f-4855-baa5-3eba7a24697f"
      },
      "execution_count": 7,
      "outputs": [
        {
          "output_type": "execute_result",
          "data": {
            "text/plain": [
              "1.6666666666666667"
            ]
          },
          "metadata": {},
          "execution_count": 7
        }
      ]
    },
    {
      "cell_type": "code",
      "source": [
        "5 // 3"
      ],
      "metadata": {
        "colab": {
          "base_uri": "https://localhost:8080/"
        },
        "id": "eyB0bY9T6GI-",
        "outputId": "336e161f-4934-4083-d7bf-7d28469a1e57"
      },
      "execution_count": 8,
      "outputs": [
        {
          "output_type": "execute_result",
          "data": {
            "text/plain": [
              "1"
            ]
          },
          "metadata": {},
          "execution_count": 8
        }
      ]
    },
    {
      "cell_type": "code",
      "source": [
        "5 % 2"
      ],
      "metadata": {
        "colab": {
          "base_uri": "https://localhost:8080/"
        },
        "id": "5wzzYvFU6IoW",
        "outputId": "1505a622-d41c-4cb4-a793-e2a509d9b031"
      },
      "execution_count": 9,
      "outputs": [
        {
          "output_type": "execute_result",
          "data": {
            "text/plain": [
              "1"
            ]
          },
          "metadata": {},
          "execution_count": 9
        }
      ]
    },
    {
      "cell_type": "code",
      "source": [
        "5 * 2"
      ],
      "metadata": {
        "colab": {
          "base_uri": "https://localhost:8080/"
        },
        "id": "MdbKBgDN6Kbl",
        "outputId": "91a89e70-fbfd-458f-b8d6-e0df75163663"
      },
      "execution_count": 12,
      "outputs": [
        {
          "output_type": "execute_result",
          "data": {
            "text/plain": [
              "10"
            ]
          },
          "metadata": {},
          "execution_count": 12
        }
      ]
    },
    {
      "cell_type": "code",
      "source": [
        "5 ** 3"
      ],
      "metadata": {
        "colab": {
          "base_uri": "https://localhost:8080/"
        },
        "id": "XbU-j9IR6Nrd",
        "outputId": "4f96ca3c-81cf-4ae8-e07b-a0a54539dc1f"
      },
      "execution_count": 13,
      "outputs": [
        {
          "output_type": "execute_result",
          "data": {
            "text/plain": [
              "125"
            ]
          },
          "metadata": {},
          "execution_count": 13
        }
      ]
    },
    {
      "cell_type": "code",
      "source": [
        "pow(5,3)"
      ],
      "metadata": {
        "colab": {
          "base_uri": "https://localhost:8080/"
        },
        "id": "HWXSmQTG6TeV",
        "outputId": "05c19933-029f-4432-f6f2-cd81b1b950a4"
      },
      "execution_count": 14,
      "outputs": [
        {
          "output_type": "execute_result",
          "data": {
            "text/plain": [
              "125"
            ]
          },
          "metadata": {},
          "execution_count": 14
        }
      ]
    },
    {
      "cell_type": "code",
      "source": [
        "# Lets print all together\n",
        "# print integer %d\n",
        "# print fraction %f\n",
        "\n",
        "# print(\"Adding 5 with 3 gives me\", 5+3)\n",
        "print(\"Adding %d with %d gives me %d\" %(5,3,5+3))\n",
        "print(5-3)\n",
        "print(5*3)"
      ],
      "metadata": {
        "colab": {
          "base_uri": "https://localhost:8080/"
        },
        "id": "OW_Ue8Po6btE",
        "outputId": "dcb360ab-b7e4-47b9-8686-635a791d6f20"
      },
      "execution_count": 15,
      "outputs": [
        {
          "output_type": "stream",
          "name": "stdout",
          "text": [
            "Adding 5 with 3 gives me 8\n",
            "2\n",
            "15\n"
          ]
        }
      ]
    },
    {
      "cell_type": "code",
      "source": [
        "# Variables:   integers, fraction (floating point), strings\n",
        "xx = 1\n",
        "yy = 1.2\n",
        "name = \"Rishikesh\"\n",
        "\n",
        "print(xx + yy)   #coneverted to a string\n",
        "print(name)"
      ],
      "metadata": {
        "colab": {
          "base_uri": "https://localhost:8080/"
        },
        "id": "XfS8tcfY7pPI",
        "outputId": "b0d5568c-73fb-4e2d-e18c-a7e681942858"
      },
      "execution_count": 16,
      "outputs": [
        {
          "output_type": "stream",
          "name": "stdout",
          "text": [
            "2.2\n",
            "Rishikesh\n"
          ]
        }
      ]
    },
    {
      "cell_type": "code",
      "source": [
        "# Using numpy scipy module\n",
        "\n",
        "''' Dont use it this way\n",
        "from numpy import *    #it will import everything in numpy module '''\n",
        "\n",
        "import numpy as np\n",
        "print(np.sin(0.1), np.sin(np.pi/2.))\n",
        "print(np.cos(0.1), np.cos(np.pi/2.))    # will understand next week y its not giving actual zero\n",
        "print(np.tan(0.1), np.tan(np.pi/2.))\n",
        "print(np.arcsin(1.0), np.arctan(1.0), np.arccos(1.0))    # for inverse functions"
      ],
      "metadata": {
        "colab": {
          "base_uri": "https://localhost:8080/"
        },
        "id": "fBQXvUPW9US4",
        "outputId": "3362de26-52c3-4465-8504-104766f04158"
      },
      "execution_count": 17,
      "outputs": [
        {
          "output_type": "stream",
          "name": "stdout",
          "text": [
            "0.09983341664682815 1.0\n",
            "0.9950041652780258 6.123233995736766e-17\n",
            "0.10033467208545055 1.633123935319537e+16\n",
            "1.5707963267948966 0.7853981633974483 0.0\n"
          ]
        }
      ]
    },
    {
      "cell_type": "code",
      "source": [
        "# Our First program\n",
        "\n",
        "'''\n",
        "Take two numbers in input and calculate the following:\n",
        "sin(num 1) + cos (num2) and print the addition.\n",
        "\n",
        "Pseudo code:\n",
        "1. Input the first number\n",
        "2. Input the second number\n",
        "3. Do the operation\n",
        "4. Print the output\n",
        "'''\n",
        "import numpy as np\n",
        "\n",
        "print (\"This program does an operation with two input numbers\")\n",
        "print (\"Give a number: \")\n",
        "num1 = float(input())\n",
        "num2 = float(input(\"Input another number:\"))\n",
        "\n",
        "result = np.sin(num1) + np.cos(num2)\n",
        "print(\"Result of operation is\",result)"
      ],
      "metadata": {
        "colab": {
          "base_uri": "https://localhost:8080/"
        },
        "id": "zFC_1Pf6_6XI",
        "outputId": "3fe50a27-c94c-43c4-8b81-c5940342a158"
      },
      "execution_count": 18,
      "outputs": [
        {
          "output_type": "stream",
          "name": "stdout",
          "text": [
            "This program does an operation with two input numbers\n",
            "Give a number: \n",
            "56\n",
            "Input another number:56\n",
            "Result of operation is 0.3316691056356723\n"
          ]
        }
      ]
    },
    {
      "cell_type": "markdown",
      "source": [
        "Containers in Python\n",
        "\n",
        "Properties:\n",
        "\n",
        "ordered?\n",
        "homogenous? mutable?\n",
        "\n",
        "1. tuple: [ordered, heterogenous, non mutable]\n",
        "2. list: [ordered, heterogenous, mutable]\n",
        "3. array: [ordered, homogenous, mutable]\n",
        "\n",
        "To get an element of an ordered container, one start by saying that the first element is element no 0.\n"
      ],
      "metadata": {
        "id": "yTRiz9lNEi7b"
      }
    },
    {
      "cell_type": "code",
      "source": [
        "# tuple\n",
        "\n",
        "aa = (21174019, 'Rishikesh Sahu', (50.,20.,10.))  #tuple inside a tuple\n",
        "print(aa[1],aa[0],aa[2])\n",
        "print(aa[2][0])\n",
        "# aa[2][0] = 1.       #it will give an error       as tuple is non mutable"
      ],
      "metadata": {
        "colab": {
          "base_uri": "https://localhost:8080/"
        },
        "id": "PJxxqPYiFSMx",
        "outputId": "26a4bd5c-d3ee-4377-d066-9f2382485d4c"
      },
      "execution_count": 19,
      "outputs": [
        {
          "output_type": "stream",
          "name": "stdout",
          "text": [
            "Rishikesh Sahu 21174019 (50.0, 20.0, 10.0)\n",
            "50.0\n"
          ]
        }
      ]
    },
    {
      "cell_type": "code",
      "source": [
        "# list\n",
        "\n",
        "aa = [21174019, 'Rishikesh Sahu', [50.,20.,10.]]\n",
        "aa[2][0] = 20.    #list is mutable\n",
        "print(aa[2])"
      ],
      "metadata": {
        "colab": {
          "base_uri": "https://localhost:8080/"
        },
        "id": "O9ZOPBsEGRw1",
        "outputId": "f32472aa-db1d-4a91-d354-faef24785fc5"
      },
      "execution_count": 20,
      "outputs": [
        {
          "output_type": "stream",
          "name": "stdout",
          "text": [
            "[20.0, 20.0, 10.0]\n"
          ]
        }
      ]
    },
    {
      "cell_type": "code",
      "source": [
        "# array\n",
        "\n",
        "aa = np.array([1., 2.3, 4.5, 6.2, 7.])\n",
        "bb = np.array([1., 2., 4.2, 6.2, 7.])\n",
        "# print(aa + bb)\n",
        "print(aa * bb)\n",
        "print(np.dot(aa,bb))  #dot product of the vectors\n",
        "# bb = aa.tolist() #converted to list\n",
        "# bb.append(9.)"
      ],
      "metadata": {
        "id": "uMxHJJQfHU1H",
        "colab": {
          "base_uri": "https://localhost:8080/"
        },
        "outputId": "c408a687-703a-4090-8287-a92d485461dc"
      },
      "execution_count": 21,
      "outputs": [
        {
          "output_type": "stream",
          "name": "stdout",
          "text": [
            "[ 1.    4.6  18.9  38.44 49.  ]\n",
            "111.94\n"
          ]
        }
      ]
    },
    {
      "cell_type": "code",
      "source": [
        "index = np.where(aa<3,)\n",
        "aa[index]\n",
        "print(aa[index],bb[index])\n",
        "aa[np.where(aa<3)]\n",
        "aa[aa<3]"
      ],
      "metadata": {
        "colab": {
          "base_uri": "https://localhost:8080/"
        },
        "id": "rMYQKBM0J-77",
        "outputId": "54478fe2-18f6-46b5-fcb8-10dffaede4c3"
      },
      "execution_count": 22,
      "outputs": [
        {
          "output_type": "stream",
          "name": "stdout",
          "text": [
            "[1.  2.3] [1. 2.]\n"
          ]
        },
        {
          "output_type": "execute_result",
          "data": {
            "text/plain": [
              "array([1. , 2.3])"
            ]
          },
          "metadata": {},
          "execution_count": 22
        }
      ]
    },
    {
      "cell_type": "code",
      "source": [
        "aa = np.array([[1,2,3],[5,6,7]])\n",
        "print(aa)\n",
        "aa[1,2]"
      ],
      "metadata": {
        "colab": {
          "base_uri": "https://localhost:8080/"
        },
        "id": "rKnS5ER-Ldte",
        "outputId": "c09d5493-0fc6-41f0-c6e3-97cc965e5cc0"
      },
      "execution_count": 23,
      "outputs": [
        {
          "output_type": "stream",
          "name": "stdout",
          "text": [
            "[[1 2 3]\n",
            " [5 6 7]]\n"
          ]
        },
        {
          "output_type": "execute_result",
          "data": {
            "text/plain": [
              "7"
            ]
          },
          "metadata": {},
          "execution_count": 23
        }
      ]
    },
    {
      "cell_type": "code",
      "source": [
        "aa[1][2]"
      ],
      "metadata": {
        "colab": {
          "base_uri": "https://localhost:8080/"
        },
        "id": "kFmGXIa-L8N_",
        "outputId": "0c4ddeef-fe39-4606-934f-5747162286a8"
      },
      "execution_count": 24,
      "outputs": [
        {
          "output_type": "execute_result",
          "data": {
            "text/plain": [
              "7"
            ]
          },
          "metadata": {},
          "execution_count": 24
        }
      ]
    },
    {
      "cell_type": "code",
      "source": [
        "aa.shape"
      ],
      "metadata": {
        "colab": {
          "base_uri": "https://localhost:8080/"
        },
        "id": "lz1nrvoxMALH",
        "outputId": "1a4b49a9-c877-4940-afec-645b50d5e47a"
      },
      "execution_count": 26,
      "outputs": [
        {
          "output_type": "execute_result",
          "data": {
            "text/plain": [
              "(2, 3)"
            ]
          },
          "metadata": {},
          "execution_count": 26
        }
      ]
    },
    {
      "cell_type": "code",
      "source": [
        "# 1. Given input of n, find factorial n.\n",
        "\n",
        "def factorial(n):\n",
        "  if n == 0:\n",
        "    return 1\n",
        "  return n * factorial(n-1)\n",
        "\n",
        "n = int(input(\"Enter n: \"))\n",
        "print(factorial(n))"
      ],
      "metadata": {
        "colab": {
          "base_uri": "https://localhost:8080/"
        },
        "id": "kEdf5mlDf_dE",
        "outputId": "d739b909-a455-4feb-db39-fd02b29c9276"
      },
      "execution_count": 55,
      "outputs": [
        {
          "output_type": "stream",
          "name": "stdout",
          "text": [
            "Enter n: 0\n",
            "1\n"
          ]
        }
      ]
    },
    {
      "cell_type": "code",
      "source": [
        "# 2. Given inputs of n and p find n_C_p.\n",
        "# n_C_p = n! / (p! * (n-p)!)\n",
        "\n",
        "def combination(n, p):\n",
        "    return factorial(n) / (factorial(p) * factorial(n-p))\n",
        "\n",
        "n = int(input(\"Enter n: \"))\n",
        "p = int(input(\"Enter p: \"))\n",
        "\n",
        "print(combination(n, p))"
      ],
      "metadata": {
        "colab": {
          "base_uri": "https://localhost:8080/"
        },
        "id": "4UBMFTKvgqnm",
        "outputId": "b2599318-77c6-4a48-c451-0e5225d5962a"
      },
      "execution_count": 54,
      "outputs": [
        {
          "output_type": "stream",
          "name": "stdout",
          "text": [
            "Enter n: 0\n",
            "Enter p: 0\n",
            "1.0\n"
          ]
        }
      ]
    },
    {
      "cell_type": "code",
      "source": [
        "# 3. Find all the numbers that are divisible by a number that you give in input.\n",
        " \n",
        "def find_divisible(x, start, end):\n",
        "  divisible_numbers = []\n",
        "  for i in range(start, end+1):\n",
        "    if i % x == 0:\n",
        "      divisible_numbers.append(i)\n",
        "  return divisible_numbers\n",
        "\n",
        "n = int(input(\"Enter n: \"))\n",
        "start = int(input(\"Enter start: \"))\n",
        "end = int(input(\"Enter end: \"))\n",
        "\n",
        "print(find_divisible(n, start, end))"
      ],
      "metadata": {
        "colab": {
          "base_uri": "https://localhost:8080/"
        },
        "id": "__QmNT9whdoG",
        "outputId": "7ef56a13-74d1-4532-e776-4de260c09f35"
      },
      "execution_count": 52,
      "outputs": [
        {
          "output_type": "stream",
          "name": "stdout",
          "text": [
            "Enter n: 3\n",
            "Enter start: 1\n",
            "Enter end: 20\n",
            "[3, 6, 9, 12, 15, 18]\n"
          ]
        }
      ]
    },
    {
      "cell_type": "code",
      "source": [
        "# 1. Find all the pairs of numbers that add to 1000.\n",
        "\n",
        "def find_pairs():\n",
        "  pairs = []\n",
        "  for x in range(1, 1000):\n",
        "    pairs.append((x, 1000-x))\n",
        "  return pairs\n",
        "\n",
        "print(find_pairs())"
      ],
      "metadata": {
        "colab": {
          "base_uri": "https://localhost:8080/"
        },
        "id": "LU4sETC-u5WE",
        "outputId": "0a63e8f2-f94a-45db-be93-16eb6d0de2eb"
      },
      "execution_count": 56,
      "outputs": [
        {
          "output_type": "stream",
          "name": "stdout",
          "text": [
            "[(1, 999), (2, 998), (3, 997), (4, 996), (5, 995), (6, 994), (7, 993), (8, 992), (9, 991), (10, 990), (11, 989), (12, 988), (13, 987), (14, 986), (15, 985), (16, 984), (17, 983), (18, 982), (19, 981), (20, 980), (21, 979), (22, 978), (23, 977), (24, 976), (25, 975), (26, 974), (27, 973), (28, 972), (29, 971), (30, 970), (31, 969), (32, 968), (33, 967), (34, 966), (35, 965), (36, 964), (37, 963), (38, 962), (39, 961), (40, 960), (41, 959), (42, 958), (43, 957), (44, 956), (45, 955), (46, 954), (47, 953), (48, 952), (49, 951), (50, 950), (51, 949), (52, 948), (53, 947), (54, 946), (55, 945), (56, 944), (57, 943), (58, 942), (59, 941), (60, 940), (61, 939), (62, 938), (63, 937), (64, 936), (65, 935), (66, 934), (67, 933), (68, 932), (69, 931), (70, 930), (71, 929), (72, 928), (73, 927), (74, 926), (75, 925), (76, 924), (77, 923), (78, 922), (79, 921), (80, 920), (81, 919), (82, 918), (83, 917), (84, 916), (85, 915), (86, 914), (87, 913), (88, 912), (89, 911), (90, 910), (91, 909), (92, 908), (93, 907), (94, 906), (95, 905), (96, 904), (97, 903), (98, 902), (99, 901), (100, 900), (101, 899), (102, 898), (103, 897), (104, 896), (105, 895), (106, 894), (107, 893), (108, 892), (109, 891), (110, 890), (111, 889), (112, 888), (113, 887), (114, 886), (115, 885), (116, 884), (117, 883), (118, 882), (119, 881), (120, 880), (121, 879), (122, 878), (123, 877), (124, 876), (125, 875), (126, 874), (127, 873), (128, 872), (129, 871), (130, 870), (131, 869), (132, 868), (133, 867), (134, 866), (135, 865), (136, 864), (137, 863), (138, 862), (139, 861), (140, 860), (141, 859), (142, 858), (143, 857), (144, 856), (145, 855), (146, 854), (147, 853), (148, 852), (149, 851), (150, 850), (151, 849), (152, 848), (153, 847), (154, 846), (155, 845), (156, 844), (157, 843), (158, 842), (159, 841), (160, 840), (161, 839), (162, 838), (163, 837), (164, 836), (165, 835), (166, 834), (167, 833), (168, 832), (169, 831), (170, 830), (171, 829), (172, 828), (173, 827), (174, 826), (175, 825), (176, 824), (177, 823), (178, 822), (179, 821), (180, 820), (181, 819), (182, 818), (183, 817), (184, 816), (185, 815), (186, 814), (187, 813), (188, 812), (189, 811), (190, 810), (191, 809), (192, 808), (193, 807), (194, 806), (195, 805), (196, 804), (197, 803), (198, 802), (199, 801), (200, 800), (201, 799), (202, 798), (203, 797), (204, 796), (205, 795), (206, 794), (207, 793), (208, 792), (209, 791), (210, 790), (211, 789), (212, 788), (213, 787), (214, 786), (215, 785), (216, 784), (217, 783), (218, 782), (219, 781), (220, 780), (221, 779), (222, 778), (223, 777), (224, 776), (225, 775), (226, 774), (227, 773), (228, 772), (229, 771), (230, 770), (231, 769), (232, 768), (233, 767), (234, 766), (235, 765), (236, 764), (237, 763), (238, 762), (239, 761), (240, 760), (241, 759), (242, 758), (243, 757), (244, 756), (245, 755), (246, 754), (247, 753), (248, 752), (249, 751), (250, 750), (251, 749), (252, 748), (253, 747), (254, 746), (255, 745), (256, 744), (257, 743), (258, 742), (259, 741), (260, 740), (261, 739), (262, 738), (263, 737), (264, 736), (265, 735), (266, 734), (267, 733), (268, 732), (269, 731), (270, 730), (271, 729), (272, 728), (273, 727), (274, 726), (275, 725), (276, 724), (277, 723), (278, 722), (279, 721), (280, 720), (281, 719), (282, 718), (283, 717), (284, 716), (285, 715), (286, 714), (287, 713), (288, 712), (289, 711), (290, 710), (291, 709), (292, 708), (293, 707), (294, 706), (295, 705), (296, 704), (297, 703), (298, 702), (299, 701), (300, 700), (301, 699), (302, 698), (303, 697), (304, 696), (305, 695), (306, 694), (307, 693), (308, 692), (309, 691), (310, 690), (311, 689), (312, 688), (313, 687), (314, 686), (315, 685), (316, 684), (317, 683), (318, 682), (319, 681), (320, 680), (321, 679), (322, 678), (323, 677), (324, 676), (325, 675), (326, 674), (327, 673), (328, 672), (329, 671), (330, 670), (331, 669), (332, 668), (333, 667), (334, 666), (335, 665), (336, 664), (337, 663), (338, 662), (339, 661), (340, 660), (341, 659), (342, 658), (343, 657), (344, 656), (345, 655), (346, 654), (347, 653), (348, 652), (349, 651), (350, 650), (351, 649), (352, 648), (353, 647), (354, 646), (355, 645), (356, 644), (357, 643), (358, 642), (359, 641), (360, 640), (361, 639), (362, 638), (363, 637), (364, 636), (365, 635), (366, 634), (367, 633), (368, 632), (369, 631), (370, 630), (371, 629), (372, 628), (373, 627), (374, 626), (375, 625), (376, 624), (377, 623), (378, 622), (379, 621), (380, 620), (381, 619), (382, 618), (383, 617), (384, 616), (385, 615), (386, 614), (387, 613), (388, 612), (389, 611), (390, 610), (391, 609), (392, 608), (393, 607), (394, 606), (395, 605), (396, 604), (397, 603), (398, 602), (399, 601), (400, 600), (401, 599), (402, 598), (403, 597), (404, 596), (405, 595), (406, 594), (407, 593), (408, 592), (409, 591), (410, 590), (411, 589), (412, 588), (413, 587), (414, 586), (415, 585), (416, 584), (417, 583), (418, 582), (419, 581), (420, 580), (421, 579), (422, 578), (423, 577), (424, 576), (425, 575), (426, 574), (427, 573), (428, 572), (429, 571), (430, 570), (431, 569), (432, 568), (433, 567), (434, 566), (435, 565), (436, 564), (437, 563), (438, 562), (439, 561), (440, 560), (441, 559), (442, 558), (443, 557), (444, 556), (445, 555), (446, 554), (447, 553), (448, 552), (449, 551), (450, 550), (451, 549), (452, 548), (453, 547), (454, 546), (455, 545), (456, 544), (457, 543), (458, 542), (459, 541), (460, 540), (461, 539), (462, 538), (463, 537), (464, 536), (465, 535), (466, 534), (467, 533), (468, 532), (469, 531), (470, 530), (471, 529), (472, 528), (473, 527), (474, 526), (475, 525), (476, 524), (477, 523), (478, 522), (479, 521), (480, 520), (481, 519), (482, 518), (483, 517), (484, 516), (485, 515), (486, 514), (487, 513), (488, 512), (489, 511), (490, 510), (491, 509), (492, 508), (493, 507), (494, 506), (495, 505), (496, 504), (497, 503), (498, 502), (499, 501), (500, 500), (501, 499), (502, 498), (503, 497), (504, 496), (505, 495), (506, 494), (507, 493), (508, 492), (509, 491), (510, 490), (511, 489), (512, 488), (513, 487), (514, 486), (515, 485), (516, 484), (517, 483), (518, 482), (519, 481), (520, 480), (521, 479), (522, 478), (523, 477), (524, 476), (525, 475), (526, 474), (527, 473), (528, 472), (529, 471), (530, 470), (531, 469), (532, 468), (533, 467), (534, 466), (535, 465), (536, 464), (537, 463), (538, 462), (539, 461), (540, 460), (541, 459), (542, 458), (543, 457), (544, 456), (545, 455), (546, 454), (547, 453), (548, 452), (549, 451), (550, 450), (551, 449), (552, 448), (553, 447), (554, 446), (555, 445), (556, 444), (557, 443), (558, 442), (559, 441), (560, 440), (561, 439), (562, 438), (563, 437), (564, 436), (565, 435), (566, 434), (567, 433), (568, 432), (569, 431), (570, 430), (571, 429), (572, 428), (573, 427), (574, 426), (575, 425), (576, 424), (577, 423), (578, 422), (579, 421), (580, 420), (581, 419), (582, 418), (583, 417), (584, 416), (585, 415), (586, 414), (587, 413), (588, 412), (589, 411), (590, 410), (591, 409), (592, 408), (593, 407), (594, 406), (595, 405), (596, 404), (597, 403), (598, 402), (599, 401), (600, 400), (601, 399), (602, 398), (603, 397), (604, 396), (605, 395), (606, 394), (607, 393), (608, 392), (609, 391), (610, 390), (611, 389), (612, 388), (613, 387), (614, 386), (615, 385), (616, 384), (617, 383), (618, 382), (619, 381), (620, 380), (621, 379), (622, 378), (623, 377), (624, 376), (625, 375), (626, 374), (627, 373), (628, 372), (629, 371), (630, 370), (631, 369), (632, 368), (633, 367), (634, 366), (635, 365), (636, 364), (637, 363), (638, 362), (639, 361), (640, 360), (641, 359), (642, 358), (643, 357), (644, 356), (645, 355), (646, 354), (647, 353), (648, 352), (649, 351), (650, 350), (651, 349), (652, 348), (653, 347), (654, 346), (655, 345), (656, 344), (657, 343), (658, 342), (659, 341), (660, 340), (661, 339), (662, 338), (663, 337), (664, 336), (665, 335), (666, 334), (667, 333), (668, 332), (669, 331), (670, 330), (671, 329), (672, 328), (673, 327), (674, 326), (675, 325), (676, 324), (677, 323), (678, 322), (679, 321), (680, 320), (681, 319), (682, 318), (683, 317), (684, 316), (685, 315), (686, 314), (687, 313), (688, 312), (689, 311), (690, 310), (691, 309), (692, 308), (693, 307), (694, 306), (695, 305), (696, 304), (697, 303), (698, 302), (699, 301), (700, 300), (701, 299), (702, 298), (703, 297), (704, 296), (705, 295), (706, 294), (707, 293), (708, 292), (709, 291), (710, 290), (711, 289), (712, 288), (713, 287), (714, 286), (715, 285), (716, 284), (717, 283), (718, 282), (719, 281), (720, 280), (721, 279), (722, 278), (723, 277), (724, 276), (725, 275), (726, 274), (727, 273), (728, 272), (729, 271), (730, 270), (731, 269), (732, 268), (733, 267), (734, 266), (735, 265), (736, 264), (737, 263), (738, 262), (739, 261), (740, 260), (741, 259), (742, 258), (743, 257), (744, 256), (745, 255), (746, 254), (747, 253), (748, 252), (749, 251), (750, 250), (751, 249), (752, 248), (753, 247), (754, 246), (755, 245), (756, 244), (757, 243), (758, 242), (759, 241), (760, 240), (761, 239), (762, 238), (763, 237), (764, 236), (765, 235), (766, 234), (767, 233), (768, 232), (769, 231), (770, 230), (771, 229), (772, 228), (773, 227), (774, 226), (775, 225), (776, 224), (777, 223), (778, 222), (779, 221), (780, 220), (781, 219), (782, 218), (783, 217), (784, 216), (785, 215), (786, 214), (787, 213), (788, 212), (789, 211), (790, 210), (791, 209), (792, 208), (793, 207), (794, 206), (795, 205), (796, 204), (797, 203), (798, 202), (799, 201), (800, 200), (801, 199), (802, 198), (803, 197), (804, 196), (805, 195), (806, 194), (807, 193), (808, 192), (809, 191), (810, 190), (811, 189), (812, 188), (813, 187), (814, 186), (815, 185), (816, 184), (817, 183), (818, 182), (819, 181), (820, 180), (821, 179), (822, 178), (823, 177), (824, 176), (825, 175), (826, 174), (827, 173), (828, 172), (829, 171), (830, 170), (831, 169), (832, 168), (833, 167), (834, 166), (835, 165), (836, 164), (837, 163), (838, 162), (839, 161), (840, 160), (841, 159), (842, 158), (843, 157), (844, 156), (845, 155), (846, 154), (847, 153), (848, 152), (849, 151), (850, 150), (851, 149), (852, 148), (853, 147), (854, 146), (855, 145), (856, 144), (857, 143), (858, 142), (859, 141), (860, 140), (861, 139), (862, 138), (863, 137), (864, 136), (865, 135), (866, 134), (867, 133), (868, 132), (869, 131), (870, 130), (871, 129), (872, 128), (873, 127), (874, 126), (875, 125), (876, 124), (877, 123), (878, 122), (879, 121), (880, 120), (881, 119), (882, 118), (883, 117), (884, 116), (885, 115), (886, 114), (887, 113), (888, 112), (889, 111), (890, 110), (891, 109), (892, 108), (893, 107), (894, 106), (895, 105), (896, 104), (897, 103), (898, 102), (899, 101), (900, 100), (901, 99), (902, 98), (903, 97), (904, 96), (905, 95), (906, 94), (907, 93), (908, 92), (909, 91), (910, 90), (911, 89), (912, 88), (913, 87), (914, 86), (915, 85), (916, 84), (917, 83), (918, 82), (919, 81), (920, 80), (921, 79), (922, 78), (923, 77), (924, 76), (925, 75), (926, 74), (927, 73), (928, 72), (929, 71), (930, 70), (931, 69), (932, 68), (933, 67), (934, 66), (935, 65), (936, 64), (937, 63), (938, 62), (939, 61), (940, 60), (941, 59), (942, 58), (943, 57), (944, 56), (945, 55), (946, 54), (947, 53), (948, 52), (949, 51), (950, 50), (951, 49), (952, 48), (953, 47), (954, 46), (955, 45), (956, 44), (957, 43), (958, 42), (959, 41), (960, 40), (961, 39), (962, 38), (963, 37), (964, 36), (965, 35), (966, 34), (967, 33), (968, 32), (969, 31), (970, 30), (971, 29), (972, 28), (973, 27), (974, 26), (975, 25), (976, 24), (977, 23), (978, 22), (979, 21), (980, 20), (981, 19), (982, 18), (983, 17), (984, 16), (985, 15), (986, 14), (987, 13), (988, 12), (989, 11), (990, 10), (991, 9), (992, 8), (993, 7), (994, 6), (995, 5), (996, 4), (997, 3), (998, 2), (999, 1)]\n"
          ]
        }
      ]
    },
    {
      "cell_type": "code",
      "source": [
        "# 2. Find all the triplets of numbers that add to 1000.\n",
        "\n",
        "def find_triplets():\n",
        "  for a in range(1, 1000):\n",
        "    for b in range(1, 1000):\n",
        "      c = 1000 - a - b\n",
        "      if c>=0:\n",
        "        print(f\"Triplet found: {a}, {b}, {c}\")\n",
        "\n",
        "find_triplets()"
      ],
      "metadata": {
        "id": "LssDxHYGxLAX"
      },
      "execution_count": null,
      "outputs": []
    },
    {
      "cell_type": "code",
      "source": [
        "# 3. Find all the prime numbers to 1000.\n",
        "\n",
        "def find_primes(n):\n",
        "  sieve = [True] * (n+1)\n",
        "  sieve[0] = sieve[1] = False\n",
        "  primes = []\n",
        "  for i in range(2, n+1):\n",
        "    if sieve[i]:\n",
        "      primes.append(i)\n",
        "      for j in range(i*i, n+1, i):\n",
        "        sieve[j] = False\n",
        "  return primes\n",
        "\n",
        "print(find_primes(1000))"
      ],
      "metadata": {
        "colab": {
          "base_uri": "https://localhost:8080/"
        },
        "id": "2TrrYqPoC85H",
        "outputId": "6b085b1a-fb4c-48e6-d3bf-52c06f11d2bf"
      },
      "execution_count": 75,
      "outputs": [
        {
          "output_type": "stream",
          "name": "stdout",
          "text": [
            "[2, 3, 5, 7, 11, 13, 17, 19, 23, 29, 31, 37, 41, 43, 47, 53, 59, 61, 67, 71, 73, 79, 83, 89, 97, 101, 103, 107, 109, 113, 127, 131, 137, 139, 149, 151, 157, 163, 167, 173, 179, 181, 191, 193, 197, 199, 211, 223, 227, 229, 233, 239, 241, 251, 257, 263, 269, 271, 277, 281, 283, 293, 307, 311, 313, 317, 331, 337, 347, 349, 353, 359, 367, 373, 379, 383, 389, 397, 401, 409, 419, 421, 431, 433, 439, 443, 449, 457, 461, 463, 467, 479, 487, 491, 499, 503, 509, 521, 523, 541, 547, 557, 563, 569, 571, 577, 587, 593, 599, 601, 607, 613, 617, 619, 631, 641, 643, 647, 653, 659, 661, 673, 677, 683, 691, 701, 709, 719, 727, 733, 739, 743, 751, 757, 761, 769, 773, 787, 797, 809, 811, 821, 823, 827, 829, 839, 853, 857, 859, 863, 877, 881, 883, 887, 907, 911, 919, 929, 937, 941, 947, 953, 967, 971, 977, 983, 991, 997]\n"
          ]
        }
      ]
    }
  ]
}